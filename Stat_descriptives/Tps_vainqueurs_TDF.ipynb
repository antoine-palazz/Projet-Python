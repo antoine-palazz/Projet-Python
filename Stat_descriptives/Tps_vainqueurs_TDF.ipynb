{
 "cells": [
  {
   "cell_type": "markdown",
   "id": "89e03a83-9f13-400a-b388-27d1fa21ca42",
   "metadata": {},
   "source": [
    "Temps du vainqueur en sec/km par année')\r\n",
    "plt.grid(True)\r\n",
    "plt.show()"
   ]
  },
  {
   "cell_type": "code",
   "execution_count": null,
   "id": "8418700e-8de7-42ac-8477-cd04bf9bcb4b",
   "metadata": {},
   "outputs": [],
   "source": [
    "import matplotlib.pyplot as plt\n",
    "\n",
    "\n",
    "# Filtrer les lignes avec rank=1 et dans les 20 dernières années\r\n",
    "filtered_results = [row for row in filtered_rows if row[\"rank\"] == '1' and int(row[\"year\"]) >= 2003]\r\n",
    "\r\n",
    "# Calculer le temps du vainqueur divisé par le nombre de kilomètres pour chaque année\r\n",
    "results_per_year = []\r\n",
    "for result in filtered_results:\r\n",
    "    distance_km = int(result[\"distance\"])\r\n",
    "    total_seconds = int(result[\"TotalSeconds\"])\r\n",
    "    time_per_km = total_seconds / distance_km\r\n",
    "    results_per_year.append({\"year\": result[\"year\"], \"time_per_km\": time_per_km})\r\n",
    "\r\n",
    "# Afficher les résultats\r\n",
    "for result in results_per_year:\r\n",
    "    print(f\"Année {result['year']} : Temps du vainqueur par kilomètre = {result['time_per_km']} b.pyplot as plt\r\n",
    "\r\n",
    "# Données à partir des résultats calculés\r\n",
    "years = [result[\"year\"] for result in results_per_year]\r\n",
    "time_per_km_values = [result[\"time_per_km\"] for result in results_per_year]\r\n",
    "\r\n",
    "# Créer un graphique\r\n",
    "plt.figure(figsize=(10, 6))\r\n",
    "plt.plot(years, time_per_km_values, marker='o', linestyle='-', color='b')\r\n",
    "plt.title('Temps du vainqueur par kilomètre (rank=1) sur les 20 dernières années')\r\n",
    "plt.xlabel('Année')\r\n",
    "plt.ylabel('Temps par kilomètre (secondes/km)')\r\n",
    "plt.grid(True)\r\n",
    "plt.show()"
   ]
  }
 ],
 "metadata": {
  "kernelspec": {
   "display_name": "Python 3 (ipykernel)",
   "language": "python",
   "name": "python3"
  },
  "language_info": {
   "codemirror_mode": {
    "name": "ipython",
    "version": 3
   },
   "file_extension": ".py",
   "mimetype": "text/x-python",
   "name": "python",
   "nbconvert_exporter": "python",
   "pygments_lexer": "ipython3",
   "version": "3.10.13"
  }
 },
 "nbformat": 4,
 "nbformat_minor": 5
}
