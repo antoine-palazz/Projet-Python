{
 "cells": [
  {
   "cell_type": "code",
   "execution_count": 10,
   "id": "e5df1f79-ec39-4e42-b5d7-44ec837858fe",
   "metadata": {},
   "outputs": [
    {
     "name": "stdout",
     "output_type": "stream",
     "text": [
      "         meteo_categorie    vitesse  impact_relatif\n",
      "0   Categorie_Beau_Temps  25.764457        1.000000\n",
      "1  Categorie_Caniculaire  34.322521        1.332166\n",
      "2    Categorie_Changeant  27.458763        1.065761\n",
      "3     Categorie_Pluvieux  23.215744        0.901076\n",
      "4      Categorie_venteux  22.008100        0.854204\n"
     ]
    }
   ],
   "source": [
    "import pandas as pd\n",
    "\n",
    "donnees = pd.DataFrame({\n",
    "    'Distance (km)': [2428, 2045, 2125, 1938, 2552, 2890, 3450, 3236, 2984, 2886],\n",
    "    'TotalSeconds': [340394, 351155, 356558, 376558, 398558, 416554, 383248, 424258, 312984, 392886],\n",
    "    'meteo_categorie': ['Categorie_Beau_Temps', 'Categorie_venteux', 'Categorie_Pluvieux', 'Categorie_Beau_Temps', 'Categorie_venteux', 'Categorie_Pluvieux', 'Categorie_Beau_Temps', 'Categorie_Changeant', 'Categorie_Caniculaire', 'Categorie_Beau_Temps']\n",
    "})\n",
    "\n",
    "def calculer_vitesse(dataframe):\n",
    "    if 'TotalSeconds' not in dataframe.columns or 'Distance (km)' not in dataframe.columns:\n",
    "        raise ValueError(\"Le dataframe doit avoir des colonnes 'TotalSeconds' et 'Distance (km)'.\")\n",
    "\n",
    "    # Calculer la vitesse en km/h\n",
    "    dataframe['vitesse'] = (dataframe['Distance (km)'] / dataframe['TotalSeconds']) * 3600\n",
    "\n",
    "    return dataframe\n",
    "\n",
    "donnees = calculer_vitesse(donnees)\n",
    "\n",
    "moyenne_par_categorie = donnees.groupby('meteo_categorie')['vitesse'].mean().reset_index()\n",
    "\n",
    "# Sélectionner la référence (dans ce cas, \"beau\" temps)\n",
    "reference = moyenne_par_categorie[moyenne_par_categorie['meteo_categorie'] == 'Categorie_Beau_Temps']['vitesse'].iloc[0]\n",
    "\n",
    "# Calculer l'impact relatif de chaque catégorie par rapport à la référence\n",
    "moyenne_par_categorie['impact_relatif'] = moyenne_par_categorie['vitesse'] / reference\n",
    "\n",
    "print(moyenne_par_categorie)"
   ]
  }
 ],
 "metadata": {
  "kernelspec": {
   "display_name": "Python 3 (ipykernel)",
   "language": "python",
   "name": "python3"
  },
  "language_info": {
   "codemirror_mode": {
    "name": "ipython",
    "version": 3
   },
   "file_extension": ".py",
   "mimetype": "text/x-python",
   "name": "python",
   "nbconvert_exporter": "python",
   "pygments_lexer": "ipython3",
   "version": "3.10.13"
  }
 },
 "nbformat": 4,
 "nbformat_minor": 5
}
